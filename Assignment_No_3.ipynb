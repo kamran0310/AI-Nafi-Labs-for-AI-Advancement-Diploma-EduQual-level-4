{
  "nbformat": 4,
  "nbformat_minor": 0,
  "metadata": {
    "colab": {
      "provenance": []
    },
    "kernelspec": {
      "name": "python3",
      "display_name": "Python 3"
    },
    "language_info": {
      "name": "python"
    }
  },
  "cells": [
    {
      "cell_type": "markdown",
      "source": [
        "# Question: 1\n",
        "### Write a Python program to sum all the items in a list"
      ],
      "metadata": {
        "id": "uIRfzz8UrzYo"
      }
    },
    {
      "cell_type": "code",
      "source": [
        "mylist = [1,2,3,4]\n",
        "sum = 0\n",
        "for i in mylist:\n",
        "  sum += i\n",
        "print(sum)"
      ],
      "metadata": {
        "colab": {
          "base_uri": "https://localhost:8080/"
        },
        "id": "-iiYKzUGoimv",
        "outputId": "02a449c2-6bec-493d-aed9-0db9d4266acb"
      },
      "execution_count": 1,
      "outputs": [
        {
          "output_type": "stream",
          "name": "stdout",
          "text": [
            "10\n"
          ]
        }
      ]
    },
    {
      "cell_type": "markdown",
      "source": [
        "# Question: 2\n",
        "### Write a Python program to multiplies all the items in a list"
      ],
      "metadata": {
        "id": "2VUa-5-Lw1Yv"
      }
    },
    {
      "cell_type": "code",
      "source": [
        "mylist =[1,2,3,4]\n",
        "product = 1\n",
        "for i in mylist:\n",
        "  product *= i\n",
        "print(\"The product of list is \" + str (product))"
      ],
      "metadata": {
        "colab": {
          "base_uri": "https://localhost:8080/"
        },
        "id": "F0_7h2pyw5TH",
        "outputId": "89fc41ae-b3a6-46e7-d210-609fdb9d1e7f"
      },
      "execution_count": 13,
      "outputs": [
        {
          "output_type": "stream",
          "name": "stdout",
          "text": [
            "The product of list is 24\n"
          ]
        }
      ]
    },
    {
      "cell_type": "markdown",
      "source": [
        "# Question: 3\n",
        "\n",
        "### Write a Python program to get the largest number from a list."
      ],
      "metadata": {
        "id": "fNNhRNl9_2yF"
      }
    },
    {
      "cell_type": "code",
      "source": [
        "mylist = [1,2,3,4]\n",
        "largest = mylist[0]\n",
        "for i in mylist:\n",
        "  if i > largest:\n",
        "    largest = i\n",
        "print(\"The largest number is \" + str(largest))"
      ],
      "metadata": {
        "colab": {
          "base_uri": "https://localhost:8080/"
        },
        "id": "dvj3Imhy4g-n",
        "outputId": "8ac5d78a-fea1-48c1-cb81-ff99f583b802"
      },
      "execution_count": 15,
      "outputs": [
        {
          "output_type": "stream",
          "name": "stdout",
          "text": [
            "The largest number is 4\n"
          ]
        }
      ]
    },
    {
      "cell_type": "markdown",
      "source": [
        "# Question: 4\n",
        "\n",
        "### Write a Python program to get the smallest number from a list."
      ],
      "metadata": {
        "id": "cvweHAkQ_7Ym"
      }
    },
    {
      "cell_type": "code",
      "source": [
        "mylist = [1,2,3,4]\n",
        "smallest = mylist[0]\n",
        "for i in mylist:\n",
        "  if i < smallest:\n",
        "    smallest = i\n",
        "print(\"The smallest number is \" + str(smallest))"
      ],
      "metadata": {
        "colab": {
          "base_uri": "https://localhost:8080/"
        },
        "id": "6TK-F_p7NIUp",
        "outputId": "c1bf1338-8808-4836-8330-6e4974bee7e1"
      },
      "execution_count": 16,
      "outputs": [
        {
          "output_type": "stream",
          "name": "stdout",
          "text": [
            "The smallest number is 1\n"
          ]
        }
      ]
    },
    {
      "cell_type": "markdown",
      "source": [
        "# Question: 5\n",
        "\n",
        "### write a Python program to count the number of characters (character frequency) in a string."
      ],
      "metadata": {
        "id": "KWNpipQxA47B"
      }
    },
    {
      "cell_type": "code",
      "source": [
        "mystring = 'wellbeing'\n",
        "\n",
        "mydict = {}\n",
        "\n",
        "for i in mystring:\n",
        "  if i in mydict:\n",
        "    mydict[i] += 1\n",
        "  else:\n",
        "    mydict[i] = 1\n",
        "\n",
        "print(mydict)"
      ],
      "metadata": {
        "colab": {
          "base_uri": "https://localhost:8080/"
        },
        "id": "EBU_q0e5759T",
        "outputId": "9241a990-5155-475e-d01f-90be6dc67c4f"
      },
      "execution_count": 17,
      "outputs": [
        {
          "output_type": "stream",
          "name": "stdout",
          "text": [
            "{'w': 1, 'e': 2, 'l': 2, 'b': 1, 'i': 1, 'n': 1, 'g': 1}\n"
          ]
        }
      ]
    },
    {
      "cell_type": "markdown",
      "source": [
        "# Question: 5\n",
        "### Write a Python program to get a list, sorted in increasing order by the last element in each tuple from a given list of non-empty tuples."
      ],
      "metadata": {
        "id": "eoLme8ywBB_-"
      }
    },
    {
      "cell_type": "code",
      "source": [
        "tuple_list = [(2, 5), (1, 2), (4, 4), (2, 3), (2, 1)]\n",
        "mylist = sorted(tuple_list, key = lambda x: x[1])\n",
        "print(mylist)"
      ],
      "metadata": {
        "colab": {
          "base_uri": "https://localhost:8080/"
        },
        "id": "vJvlkkQiQTAy",
        "outputId": "a245ad76-cc56-4bdd-9361-6c2d6cb66e73"
      },
      "execution_count": 1,
      "outputs": [
        {
          "output_type": "stream",
          "name": "stdout",
          "text": [
            "[(2, 1), (1, 2), (2, 3), (4, 4), (2, 5)]\n"
          ]
        }
      ]
    },
    {
      "cell_type": "markdown",
      "source": [
        "# Question: 7\n",
        "### Write a Python program to get a string made of the first 2 and the last 2 chars from a given a string. If the string length is less than 2, return instead the empty string."
      ],
      "metadata": {
        "id": "CEx7y1qVbVwz"
      }
    },
    {
      "cell_type": "code",
      "source": [
        "myString = \"energy\"\n",
        "\n",
        "if len(myString) < 2:\n",
        "  print(\"Empty String\")\n",
        "else :\n",
        "  print(myString[:2] + myString[-2:])"
      ],
      "metadata": {
        "colab": {
          "base_uri": "https://localhost:8080/"
        },
        "id": "9bsbtb26bl7E",
        "outputId": "4edd3963-d18a-4f98-bdae-efa248ad7137"
      },
      "execution_count": 12,
      "outputs": [
        {
          "output_type": "stream",
          "name": "stdout",
          "text": [
            "engy\n"
          ]
        }
      ]
    },
    {
      "cell_type": "markdown",
      "source": [
        "# Question: 8\n",
        "### Write a Python function that takes a list of words and returns the length of the longest one. Go to the editor"
      ],
      "metadata": {
        "id": "e-uXyBzVdLDk"
      }
    },
    {
      "cell_type": "code",
      "source": [
        "listOfWords = ['good', 'better', 'best']\n",
        "longest = 0\n",
        "for i in listOfWords:\n",
        "  if len(i) > longest:\n",
        "    longest = len(i)\n",
        "print(longest)"
      ],
      "metadata": {
        "colab": {
          "base_uri": "https://localhost:8080/"
        },
        "id": "J78r-2Owc_y9",
        "outputId": "5f82052e-bc95-4657-fabb-c495658eaa5e"
      },
      "execution_count": 13,
      "outputs": [
        {
          "output_type": "stream",
          "name": "stdout",
          "text": [
            "6\n"
          ]
        }
      ]
    },
    {
      "cell_type": "markdown",
      "source": [
        "# Question: 9\n",
        "### Write a Python program to sort (ascending and descending) a dictionary by value."
      ],
      "metadata": {
        "id": "DYgnJpTcdsNB"
      }
    },
    {
      "cell_type": "code",
      "source": [
        "mydicitionary = {'a': 5, 'b': 4, 'c': 2, 'd': 3, 'e': 1}\n",
        "\n",
        "#sorting dicitionary in ascending order\n",
        "sorted_dictionary_asc= dict(sorted(mydicitionary.items(), key=lambda x: x[1]))\n",
        "print(sorted_dictionary_asc)\n",
        "\n",
        "#sorting dicitionary in descending order\n",
        "sorted_dictionary_desc = dict(sorted(mydicitionary.items(), key=lambda x: x[1], reverse=True))\n",
        "print(sorted_dictionary_desc)"
      ],
      "metadata": {
        "colab": {
          "base_uri": "https://localhost:8080/"
        },
        "id": "Xav2qTEWdxcH",
        "outputId": "4428f2c2-33c8-43a2-a713-0d52c71d299b"
      },
      "execution_count": 16,
      "outputs": [
        {
          "output_type": "stream",
          "name": "stdout",
          "text": [
            "{'e': 1, 'c': 2, 'd': 3, 'b': 4, 'a': 5}\n",
            "{'a': 5, 'b': 4, 'd': 3, 'c': 2, 'e': 1}\n"
          ]
        }
      ]
    },
    {
      "cell_type": "markdown",
      "source": [
        "# Question: 10\n",
        "###\tWrite a Python program to sort (ascending and descending) a dictionary by key value."
      ],
      "metadata": {
        "id": "uZPcew6dkvNJ"
      }
    },
    {
      "cell_type": "code",
      "source": [
        "mydicitionary = {1: 'a', 3: 'b', 2: 'c', 4: 'd', 5: 'e'}\n",
        "\n",
        "#sorting dicitionary by key in ascending order\n",
        "sorted_dictionary_asc= dict(sorted(mydicitionary.items(), key=lambda x: x[0]))\n",
        "print(sorted_dictionary_asc)\n",
        "\n",
        "#sorting dicitionary by key in descending order\n",
        "sorted_dictionary_desc = dict(sorted(mydicitionary.items(), key=lambda x: x[0], reverse=True))\n",
        "print(sorted_dictionary_desc)"
      ],
      "metadata": {
        "colab": {
          "base_uri": "https://localhost:8080/"
        },
        "id": "7B8CHIJHktDt",
        "outputId": "83f73c92-92e8-49f7-e432-0e87cd34a3ca"
      },
      "execution_count": 20,
      "outputs": [
        {
          "output_type": "stream",
          "name": "stdout",
          "text": [
            "{1: 'a', 2: 'c', 3: 'b', 4: 'd', 5: 'e'}\n",
            "{5: 'e', 4: 'd', 3: 'b', 2: 'c', 1: 'a'}\n"
          ]
        }
      ]
    },
    {
      "cell_type": "markdown",
      "source": [
        "# Question: 11\n",
        "\n",
        "### Write a Python program to add key to a dictionary"
      ],
      "metadata": {
        "id": "J_BZdASwlyVb"
      }
    },
    {
      "cell_type": "code",
      "source": [
        "mydict = {0:10, 1:20}\n",
        "mydict.update({2:30})\n",
        "print(mydict)\n"
      ],
      "metadata": {
        "colab": {
          "base_uri": "https://localhost:8080/"
        },
        "id": "TUK44-uAlvzm",
        "outputId": "1558821d-6f1a-4c66-cc66-95a62adc14e3"
      },
      "execution_count": 21,
      "outputs": [
        {
          "output_type": "stream",
          "name": "stdout",
          "text": [
            "{0: 10, 1: 20, 2: 30}\n"
          ]
        }
      ]
    },
    {
      "cell_type": "markdown",
      "source": [
        "# Question 12\n",
        "### Write a Python program to concatenate following dictionaries to create a new one. Go to the editor"
      ],
      "metadata": {
        "id": "gkTbbPM8mLrw"
      }
    },
    {
      "cell_type": "code",
      "source": [
        "dict1 = {1:10, 2:20}\n",
        "dict2 = {3:30, 4:40}\n",
        "dict3 = {}\n",
        "for i in (dict1, dict2):\n",
        "  dict3.update(i)\n",
        "print(dict3)"
      ],
      "metadata": {
        "colab": {
          "base_uri": "https://localhost:8080/"
        },
        "id": "dW80Bht8mK3P",
        "outputId": "1dcb6b8f-31e5-45c3-b54c-a63fe2f0e4a5"
      },
      "execution_count": 22,
      "outputs": [
        {
          "output_type": "stream",
          "name": "stdout",
          "text": [
            "{1: 10, 2: 20, 3: 30, 4: 40}\n"
          ]
        }
      ]
    },
    {
      "cell_type": "markdown",
      "source": [
        "# Question: 13\n",
        "### Write a Python program to check if a given key already exists in a dictionary."
      ],
      "metadata": {
        "id": "pwPEqFXFmrvJ"
      }
    },
    {
      "cell_type": "code",
      "source": [
        "#using dict3 from above.\n",
        "key = 2 # can change the key if you want to search a different key.\n",
        "if key in dict3:\n",
        "  print(\"Key is present\")\n",
        "else:\n",
        "  print(\"Key is not present\")"
      ],
      "metadata": {
        "colab": {
          "base_uri": "https://localhost:8080/"
        },
        "id": "Cvwmy32-j_a_",
        "outputId": "39e4ba82-4c26-41fa-a151-132a57d897d0"
      },
      "execution_count": 23,
      "outputs": [
        {
          "output_type": "stream",
          "name": "stdout",
          "text": [
            "Key is present\n"
          ]
        }
      ]
    },
    {
      "cell_type": "markdown",
      "source": [
        "# Question: 14\n",
        "### Write a Python program to iterate over dictionaries using for loops."
      ],
      "metadata": {
        "id": "pkBLzydinM3G"
      }
    },
    {
      "cell_type": "code",
      "source": [
        "#using dict3 from the above questions\n",
        "for key, value in dict3.items():\n",
        "  print(key, value)"
      ],
      "metadata": {
        "colab": {
          "base_uri": "https://localhost:8080/"
        },
        "id": "7DdEzahMnWpf",
        "outputId": "d3018769-dc71-4644-ee6d-e18e027f0f3e"
      },
      "execution_count": 24,
      "outputs": [
        {
          "output_type": "stream",
          "name": "stdout",
          "text": [
            "1 10\n",
            "2 20\n",
            "3 30\n",
            "4 40\n"
          ]
        }
      ]
    },
    {
      "cell_type": "markdown",
      "source": [
        "# Question 15\n",
        "\n",
        "### Write a Python program to remove duplicates from a list."
      ],
      "metadata": {
        "id": "Ok_7IoG3npEk"
      }
    },
    {
      "cell_type": "code",
      "source": [
        "mylist = [1,1,2,2,3,4,5]\n",
        "newlist = []\n",
        "for i in mylist:\n",
        "  if i not in newlist:\n",
        "    newlist.append(i)\n",
        "print(newlist)"
      ],
      "metadata": {
        "colab": {
          "base_uri": "https://localhost:8080/"
        },
        "id": "BCLNR6_unzAX",
        "outputId": "dd88d116-09f0-4212-b05c-f2357699bc42"
      },
      "execution_count": 25,
      "outputs": [
        {
          "output_type": "stream",
          "name": "stdout",
          "text": [
            "[1, 2, 3, 4, 5]\n"
          ]
        }
      ]
    },
    {
      "cell_type": "code",
      "source": [
        "#alternate solution\n",
        "mylist = [1,1,2,2,3,4,5]\n",
        "newlist = list(set(mylist))\n",
        "print(newlist)"
      ],
      "metadata": {
        "colab": {
          "base_uri": "https://localhost:8080/"
        },
        "id": "Xv3s4YxaoXrW",
        "outputId": "3401fff9-d7d5-4afe-849d-a303af5713f1"
      },
      "execution_count": 26,
      "outputs": [
        {
          "output_type": "stream",
          "name": "stdout",
          "text": [
            "[1, 2, 3, 4, 5]\n"
          ]
        }
      ]
    },
    {
      "cell_type": "markdown",
      "source": [
        "# Question: 16\n",
        "\n",
        "### Write a Python program to check a list is empty or not."
      ],
      "metadata": {
        "id": "Mnv2ee4jok-h"
      }
    },
    {
      "cell_type": "code",
      "source": [
        "mylist = []\n",
        "if len(mylist) == 0:\n",
        "  print(\"List is empty\")\n",
        "else:\n",
        "  print(\"List is not empty\")"
      ],
      "metadata": {
        "colab": {
          "base_uri": "https://localhost:8080/"
        },
        "id": "Fgo67_5QoiH2",
        "outputId": "2dfa8eb2-4f15-4ace-a8ea-9e94cab57a80"
      },
      "execution_count": 27,
      "outputs": [
        {
          "output_type": "stream",
          "name": "stdout",
          "text": [
            "List is empty\n"
          ]
        }
      ]
    }
  ]
}