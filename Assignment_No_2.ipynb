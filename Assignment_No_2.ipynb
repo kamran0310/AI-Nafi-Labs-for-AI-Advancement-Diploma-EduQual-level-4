{
  "nbformat": 4,
  "nbformat_minor": 0,
  "metadata": {
    "colab": {
      "provenance": []
    },
    "kernelspec": {
      "name": "python3",
      "display_name": "Python 3"
    },
    "language_info": {
      "name": "python"
    }
  },
  "cells": [
    {
      "cell_type": "markdown",
      "source": [
        "# Question: 1"
      ],
      "metadata": {
        "id": "uIRfzz8UrzYo"
      }
    },
    {
      "cell_type": "code",
      "source": [
        "#take user input\n",
        "string = input(\"Enter a string: \")\n",
        "if len(string) < 2:\n",
        "  print(\"Empty String\") #if string length is less than 2 print something and finish the program\n",
        "else:\n",
        "  first_two = string[:2]\n",
        "  last_two = string[-2:]\n",
        "  print(\"first 2 and last two characters of a string are: \" + first_two+last_two)"
      ],
      "metadata": {
        "colab": {
          "base_uri": "https://localhost:8080/"
        },
        "id": "-iiYKzUGoimv",
        "outputId": "9088dd9f-c04b-4241-bc85-5044005af1ae"
      },
      "execution_count": null,
      "outputs": [
        {
          "output_type": "stream",
          "name": "stdout",
          "text": [
            "Enter a string: la\n",
            "first 2 and last two characters of a string are: lala\n"
          ]
        }
      ]
    },
    {
      "cell_type": "markdown",
      "source": [
        "# Question: 2"
      ],
      "metadata": {
        "id": "2VUa-5-Lw1Yv"
      }
    },
    {
      "cell_type": "code",
      "source": [
        "#take user input\n",
        "string = input(\"Enter a string: \")\n",
        "#take first character and save it.\n",
        "char = string[0]\n",
        "\n",
        "string = string.replace(char, '$') #replace all occurences of first character with $\n",
        "\n",
        "string = char + string[1:] #add first character to the string wherein the occurance of 1st charactes is replaced with\n",
        "                           #$ except the first occurance\"\"\"\n",
        "print(string)\n"
      ],
      "metadata": {
        "colab": {
          "base_uri": "https://localhost:8080/"
        },
        "id": "F0_7h2pyw5TH",
        "outputId": "b69de4bf-3bf2-4223-e92d-95289e87b327"
      },
      "execution_count": null,
      "outputs": [
        {
          "output_type": "stream",
          "name": "stdout",
          "text": [
            "Enter a string: restart\n",
            "resta$t\n"
          ]
        }
      ]
    },
    {
      "cell_type": "markdown",
      "source": [
        "# Question: 3"
      ],
      "metadata": {
        "id": "fNNhRNl9_2yF"
      }
    },
    {
      "cell_type": "code",
      "source": [
        "string1 = input(\"Enter a string: \")\n",
        "string2 = input(\"Enter another string: \")\n",
        "print(string2[0]+string1[1:]+\" \"+string1[0]+string2[1:])"
      ],
      "metadata": {
        "colab": {
          "base_uri": "https://localhost:8080/"
        },
        "id": "dvj3Imhy4g-n",
        "outputId": "c811aa9f-24b9-41c3-8cc3-7e538d8e507d"
      },
      "execution_count": null,
      "outputs": [
        {
          "output_type": "stream",
          "name": "stdout",
          "text": [
            "Enter a string: abc\n",
            "Enter another string: xyz\n",
            "xbc ayz\n"
          ]
        }
      ]
    },
    {
      "cell_type": "markdown",
      "source": [
        "# Question: 4"
      ],
      "metadata": {
        "id": "cvweHAkQ_7Ym"
      }
    },
    {
      "cell_type": "code",
      "source": [
        "string = input(\"Enter a String to reverse: \")\n",
        "if len(string) >= 4 and len(string) % 4 == 0:\n",
        "  print(\"\\n\" + string[::-1])\n",
        "else:\n",
        "  print(\"Not multiple of 4\")\n",
        "\n"
      ],
      "metadata": {
        "colab": {
          "base_uri": "https://localhost:8080/"
        },
        "id": "9dfcdaR-6jSb",
        "outputId": "1dcf4954-5abe-4a4a-be3a-04c99f013cd7"
      },
      "execution_count": null,
      "outputs": [
        {
          "output_type": "stream",
          "name": "stdout",
          "text": [
            "Enter a String to reverse: abcd\n",
            "\n",
            "dcba\n"
          ]
        }
      ]
    },
    {
      "cell_type": "markdown",
      "source": [
        "# Question: 5"
      ],
      "metadata": {
        "id": "KWNpipQxA47B"
      }
    },
    {
      "cell_type": "code",
      "source": [
        "#this program is using only three left shift and it is fixed.\n",
        "\n",
        "string = input(\"Enter a string: \") #we are doing a left shift of three\n",
        "shifted_string = string.translate(str.maketrans(\n",
        "    \"ABCDEFGHIJKLMNOPQRSTUVWXYZabcdefghijklmnopqrstuvwxyz\",\n",
        "    \"DEFGHIJKLMNOPQRSTUVWXYZABCdefghijklmnopqrstuvwxyzabc\"\n",
        "))\n",
        "\n",
        "print(shifted_string)"
      ],
      "metadata": {
        "colab": {
          "base_uri": "https://localhost:8080/"
        },
        "id": "EBU_q0e5759T",
        "outputId": "2f0e79be-abe2-4711-fe69-b857906b9f13"
      },
      "execution_count": null,
      "outputs": [
        {
          "output_type": "stream",
          "name": "stdout",
          "text": [
            "Enter a string: abc\n",
            "def\n"
          ]
        }
      ]
    },
    {
      "cell_type": "markdown",
      "source": [
        "# Question: 5\n",
        "### sovled again with generic shift"
      ],
      "metadata": {
        "id": "eoLme8ywBB_-"
      }
    },
    {
      "cell_type": "code",
      "source": [
        "def shift_string(text, shift):\n",
        "    result = \"\"\n",
        "\n",
        "    for char in text:\n",
        "        # Check if the character is an uppercase letter\n",
        "        if char.isupper():\n",
        "            result += chr((ord(char) + shift - 65) % 26 + 65)\n",
        "        # Check if the character is a lowercase letter\n",
        "        elif char.islower():\n",
        "            result += chr((ord(char) + shift - 97) % 26 + 97)\n",
        "        else:\n",
        "            # If it's not a letter, keep it as is\n",
        "            result += char\n",
        "\n",
        "    return result\n",
        "\n",
        "#lets give it a shift of 4\n",
        "string = int(input((\"input shift of your choice (must be an integer): \")))\n",
        "input_string = input(\"Enter a string for caeser shift of 4\\n\")\n",
        "print(\"Shifted String:\", shifted_string)\n"
      ],
      "metadata": {
        "colab": {
          "base_uri": "https://localhost:8080/"
        },
        "id": "nPd0o-jz-i53",
        "outputId": "2833bcd1-05d6-4fc6-9ba2-705135cee38f"
      },
      "execution_count": null,
      "outputs": [
        {
          "output_type": "stream",
          "name": "stdout",
          "text": [
            "input shift of your choice (must be an integer): 4\n",
            "Enter a string for caeser shift of 4\n",
            "abc\n",
            "Shifted String: def\n"
          ]
        }
      ]
    }
  ]
}