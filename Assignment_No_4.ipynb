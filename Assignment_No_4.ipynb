{
  "nbformat": 4,
  "nbformat_minor": 0,
  "metadata": {
    "colab": {
      "provenance": []
    },
    "kernelspec": {
      "name": "python3",
      "display_name": "Python 3"
    },
    "language_info": {
      "name": "python"
    }
  },
  "cells": [
    {
      "cell_type": "markdown",
      "source": [
        "# Question: 1\n",
        "### Write a Python program to find those numbers which are divisible by 7 and multiple of 5, between 1500 and 2700 (both included).  "
      ],
      "metadata": {
        "id": "uIRfzz8UrzYo"
      }
    },
    {
      "cell_type": "code",
      "source": [
        "list = []\n",
        "for i in range (1500, 2701):\n",
        "  if i % 7 == 0 and i % 5 == 0:\n",
        "    list.append(i)\n",
        "print(list)\n"
      ],
      "metadata": {
        "colab": {
          "base_uri": "https://localhost:8080/"
        },
        "id": "-iiYKzUGoimv",
        "outputId": "6b774115-c304-45fc-c95d-a0855cd85179"
      },
      "execution_count": 28,
      "outputs": [
        {
          "output_type": "stream",
          "name": "stdout",
          "text": [
            "[1505, 1540, 1575, 1610, 1645, 1680, 1715, 1750, 1785, 1820, 1855, 1890, 1925, 1960, 1995, 2030, 2065, 2100, 2135, 2170, 2205, 2240, 2275, 2310, 2345, 2380, 2415, 2450, 2485, 2520, 2555, 2590, 2625, 2660, 2695]\n"
          ]
        }
      ]
    },
    {
      "cell_type": "markdown",
      "source": [
        "# Question: 2\n",
        "### Write a Python program to convert temperatures to and from celsius, fahrenheit.  "
      ],
      "metadata": {
        "id": "2VUa-5-Lw1Yv"
      }
    },
    {
      "cell_type": "code",
      "source": [
        "temperature = float(input(\"Enter the temperature: \"))\n",
        "unit = input(\"Enter the unit (C or F): \")\n",
        "if unit == \"C\" or \"c\":\n",
        "  fahrenheit = (temperature * 9/5) + 32\n",
        "  print(\"The temperature in Fahrenheit is \" + str(fahrenheit))\n",
        "\n",
        "elif unit == \"F\" or \"f\":\n",
        "  celsius = (temperature - 32) * 5/9\n",
        "  print(\"The temperature in Celsius is \" + str(celsius))\n",
        "else:\n",
        "  print(\"Invalid unit\")"
      ],
      "metadata": {
        "colab": {
          "base_uri": "https://localhost:8080/"
        },
        "id": "F0_7h2pyw5TH",
        "outputId": "286053bd-6501-473e-b24a-31ebebdf346a"
      },
      "execution_count": 29,
      "outputs": [
        {
          "output_type": "stream",
          "name": "stdout",
          "text": [
            "Enter the temperature: 35\n",
            "Enter the unit (C or F): f\n",
            "The temperature in Fahrenheit is 95.0\n"
          ]
        }
      ]
    },
    {
      "cell_type": "markdown",
      "source": [
        "# Question: 3\n",
        "\n",
        "### Write a Python program to guess a number between 1 to 9"
      ],
      "metadata": {
        "id": "fNNhRNl9_2yF"
      }
    },
    {
      "cell_type": "code",
      "source": [
        "import random\n",
        "\n",
        "number = random.randint(1, 9)\n",
        "guess = int(input(\"Guess a number between 1 and 9: \"))\n",
        "while guess != number:\n",
        "    guess = int(input(\"Guess not correct, Guess a number between 1 and 9 again: \"))\n",
        "print(\"Well guessed!\")\n"
      ],
      "metadata": {
        "colab": {
          "base_uri": "https://localhost:8080/"
        },
        "id": "dvj3Imhy4g-n",
        "outputId": "a64b9777-fe91-48a4-ba86-28c18a34d8c0"
      },
      "execution_count": 32,
      "outputs": [
        {
          "output_type": "stream",
          "name": "stdout",
          "text": [
            "Guess a number between 1 and 9: 1\n",
            "Guess not correct, Guess a number between 1 and 9 again: 2\n",
            "Guess not correct, Guess a number between 1 and 9 again: 3\n",
            "Guess not correct, Guess a number between 1 and 9 again: 4\n",
            "Guess not correct, Guess a number between 1 and 9 again: 5\n",
            "Well guessed!\n"
          ]
        }
      ]
    },
    {
      "cell_type": "markdown",
      "source": [
        "# Question: 4\n",
        "\n",
        "### Write a Python program to construct the following pattern, using a nested for loop."
      ],
      "metadata": {
        "id": "cvweHAkQ_7Ym"
      }
    },
    {
      "cell_type": "code",
      "source": [
        "for i in range (1,5,1):\n",
        "  print('*'*i)\n",
        "  if i == 4:\n",
        "    for j in range (4,0,-1):\n",
        "      print('*'*j)\n"
      ],
      "metadata": {
        "colab": {
          "base_uri": "https://localhost:8080/"
        },
        "id": "6TK-F_p7NIUp",
        "outputId": "4eb16786-2b32-47b3-de39-80884869cfa5"
      },
      "execution_count": 33,
      "outputs": [
        {
          "output_type": "stream",
          "name": "stdout",
          "text": [
            "*\n",
            "**\n",
            "***\n",
            "****\n",
            "****\n",
            "***\n",
            "**\n",
            "*\n"
          ]
        }
      ]
    },
    {
      "cell_type": "markdown",
      "source": [
        "# Question: 5\n",
        "\n",
        "### Write a Python program that accepts a word from the user and reverse it."
      ],
      "metadata": {
        "id": "KWNpipQxA47B"
      }
    },
    {
      "cell_type": "code",
      "source": [
        "userInput = input(\"Enter a word: \")\n",
        "userInput = userInput[::-1]\n",
        "print(userInput)"
      ],
      "metadata": {
        "colab": {
          "base_uri": "https://localhost:8080/"
        },
        "id": "EBU_q0e5759T",
        "outputId": "6b781f8d-57ff-4b48-9ed6-ea0f164cacd0"
      },
      "execution_count": 34,
      "outputs": [
        {
          "output_type": "stream",
          "name": "stdout",
          "text": [
            "Enter a word: Hello\n",
            "olleH\n"
          ]
        }
      ]
    },
    {
      "cell_type": "markdown",
      "source": [
        "# Question: 6\n",
        "### Write a Python program to count the number of even and odd numbers from a series of numbers."
      ],
      "metadata": {
        "id": "eoLme8ywBB_-"
      }
    },
    {
      "cell_type": "code",
      "source": [
        "listOfNumbers = [1,2, 3, 4, 5, 6, 7]\n",
        "even = 0\n",
        "odd =0\n",
        "for i in listOfNumbers:\n",
        "  if i % 2 == 0:\n",
        "    even += 1\n",
        "  else:\n",
        "    odd += 1\n",
        "print(\"Number of even numbers: \" + str(even))\n",
        "print(\"Number of odd numbers: \" + str(odd))\n"
      ],
      "metadata": {
        "colab": {
          "base_uri": "https://localhost:8080/"
        },
        "id": "vJvlkkQiQTAy",
        "outputId": "a12a9b1a-7125-4103-8845-dd149d55b9b8"
      },
      "execution_count": 35,
      "outputs": [
        {
          "output_type": "stream",
          "name": "stdout",
          "text": [
            "Number of even numbers: 3\n",
            "Number of odd numbers: 4\n"
          ]
        }
      ]
    },
    {
      "cell_type": "markdown",
      "source": [
        "# Question: 7\n",
        "### Write a Python program that prints each item and its corresponding type from the following list"
      ],
      "metadata": {
        "id": "CEx7y1qVbVwz"
      }
    },
    {
      "cell_type": "code",
      "source": [
        "datalist = [1452, 11.23, 1+2j, True, 'w3resource', (0, -1), [5, 12], {\"class\":'V', \"section\":'A'}]\n",
        "for i in datalist:\n",
        "  print(i, type(i))"
      ],
      "metadata": {
        "colab": {
          "base_uri": "https://localhost:8080/"
        },
        "id": "9bsbtb26bl7E",
        "outputId": "767623bf-1164-4f62-f3fa-0bde8100a548"
      },
      "execution_count": 36,
      "outputs": [
        {
          "output_type": "stream",
          "name": "stdout",
          "text": [
            "1452 <class 'int'>\n",
            "11.23 <class 'float'>\n",
            "(1+2j) <class 'complex'>\n",
            "True <class 'bool'>\n",
            "w3resource <class 'str'>\n",
            "(0, -1) <class 'tuple'>\n",
            "[5, 12] <class 'list'>\n",
            "{'class': 'V', 'section': 'A'} <class 'dict'>\n"
          ]
        }
      ]
    },
    {
      "cell_type": "markdown",
      "source": [
        "# Question: 8\n",
        "### Write a Python program that prints all the numbers from 0 to 6 except 3 and 6."
      ],
      "metadata": {
        "id": "e-uXyBzVdLDk"
      }
    },
    {
      "cell_type": "code",
      "source": [
        "for i in range (0, 7):\n",
        "  if i == 3 or i == 6:\n",
        "    continue\n",
        "  print(i, end=\"\")"
      ],
      "metadata": {
        "colab": {
          "base_uri": "https://localhost:8080/"
        },
        "id": "J78r-2Owc_y9",
        "outputId": "17e10cc0-8fa9-4ae3-f781-68d1a8eb27a8"
      },
      "execution_count": 37,
      "outputs": [
        {
          "output_type": "stream",
          "name": "stdout",
          "text": [
            "01245"
          ]
        }
      ]
    },
    {
      "cell_type": "markdown",
      "source": [
        "# Question: 9\n",
        "### Write a Python program which iterates the integers from 1 to 50. For multiples of three print \"Fizz\" instead of the number and for the multiples of five print \"Buzz\". For numbers which are multiples of both three and five print \"FizzBuzz\"."
      ],
      "metadata": {
        "id": "DYgnJpTcdsNB"
      }
    },
    {
      "cell_type": "code",
      "source": [
        "for i in range (1, 51):\n",
        "  if i%3 == 0 and i%5 == 0:\n",
        "    print (\"FizzBuzz\")\n",
        "    continue\n",
        "  if i%3 == 0:\n",
        "    print (\"Fizz\")\n",
        "    continue\n",
        "  if i%5 == 0:\n",
        "    print (\"Buzz\")\n",
        "    continue\n",
        "  print(i)"
      ],
      "metadata": {
        "colab": {
          "base_uri": "https://localhost:8080/"
        },
        "id": "Xav2qTEWdxcH",
        "outputId": "4490ce63-8f20-4868-e45e-c1a31547cc4e"
      },
      "execution_count": 38,
      "outputs": [
        {
          "output_type": "stream",
          "name": "stdout",
          "text": [
            "1\n",
            "2\n",
            "Fizz\n",
            "4\n",
            "Buzz\n",
            "Fizz\n",
            "7\n",
            "8\n",
            "Fizz\n",
            "Buzz\n",
            "11\n",
            "Fizz\n",
            "13\n",
            "14\n",
            "FizzBuzz\n",
            "16\n",
            "17\n",
            "Fizz\n",
            "19\n",
            "Buzz\n",
            "Fizz\n",
            "22\n",
            "23\n",
            "Fizz\n",
            "Buzz\n",
            "26\n",
            "Fizz\n",
            "28\n",
            "29\n",
            "FizzBuzz\n",
            "31\n",
            "32\n",
            "Fizz\n",
            "34\n",
            "Buzz\n",
            "Fizz\n",
            "37\n",
            "38\n",
            "Fizz\n",
            "Buzz\n",
            "41\n",
            "Fizz\n",
            "43\n",
            "44\n",
            "FizzBuzz\n",
            "46\n",
            "47\n",
            "Fizz\n",
            "49\n",
            "Buzz\n"
          ]
        }
      ]
    },
    {
      "cell_type": "markdown",
      "source": [
        "# Question: 10\n",
        "###\tWrite a Python program which takes two digits m (row) and n (column) as input and generates a two-dimensional array. The element value in the i-th row and j-th column of the array should be i*j.  "
      ],
      "metadata": {
        "id": "uZPcew6dkvNJ"
      }
    },
    {
      "cell_type": "code",
      "source": [
        "m = int(input(\"Enter the number of rows: \"))\n",
        "n = int(input(\"Enter the number of columns: \"))\n",
        "array = []\n",
        "for i in range (m):\n",
        "  row = []\n",
        "  for j in range (n):\n",
        "    row.append(i*j)\n",
        "  array.append(row)\n",
        "print(array)"
      ],
      "metadata": {
        "colab": {
          "base_uri": "https://localhost:8080/"
        },
        "id": "7B8CHIJHktDt",
        "outputId": "c6aaed60-8db7-48ba-9402-e33272fa4d25"
      },
      "execution_count": 39,
      "outputs": [
        {
          "output_type": "stream",
          "name": "stdout",
          "text": [
            "Enter the number of rows: 3\n",
            "Enter the number of columns: 4\n",
            "[[0, 0, 0, 0], [0, 1, 2, 3], [0, 2, 4, 6]]\n"
          ]
        }
      ]
    },
    {
      "cell_type": "markdown",
      "source": [
        "# Question: 11\n",
        "\n",
        "### Write a Python program that accepts a sequence of lines (blank line to terminate) as input and prints the lines as output (all characters in lower case)"
      ],
      "metadata": {
        "id": "J_BZdASwlyVb"
      }
    },
    {
      "cell_type": "code",
      "source": [
        "while True:\n",
        "  line = input()\n",
        "  if line:\n",
        "    print(line.lower())\n",
        "\n",
        "  else:\n",
        "    print(\"empty line entered. Exiting...\")\n",
        "    break"
      ],
      "metadata": {
        "colab": {
          "base_uri": "https://localhost:8080/"
        },
        "id": "TUK44-uAlvzm",
        "outputId": "bf3b94fb-a49e-4b51-f150-b23176b1157c"
      },
      "execution_count": 41,
      "outputs": [
        {
          "output_type": "stream",
          "name": "stdout",
          "text": [
            "kamran\n",
            "kamran\n",
            "aqeel\n",
            "aqeel\n",
            "\n",
            "empty line entered. Exiting...\n"
          ]
        }
      ]
    },
    {
      "cell_type": "markdown",
      "source": [
        "# Question: 12\n",
        "### Write a Python program which accepts a sequence of comma separated 4 digit binary numbers as its input and print the numbers that are divisible by 5 in a comma separated sequence."
      ],
      "metadata": {
        "id": "pwPEqFXFmrvJ"
      }
    },
    {
      "cell_type": "code",
      "source": [
        "binary_numbers = input(\"Enter comma separated 4-digit binary numbers: \")\n",
        "\n",
        "binary_list = binary_numbers.split(',') #split the input using comma (,)\n",
        "divisible_by_5 = [] #make list of numbers divisible by 5\n",
        "\n",
        "for binary in binary_list:\n",
        "    if int(binary, 2) % 5 == 0:\n",
        "        divisible_by_5.append(binary)\n",
        "print(','.join(divisible_by_5)) #join the numbers using comma so that we get the required output seperated by comma\n"
      ],
      "metadata": {
        "colab": {
          "base_uri": "https://localhost:8080/"
        },
        "id": "Cvwmy32-j_a_",
        "outputId": "a1a7b4e8-22fd-4196-f4a0-2e531c03696e"
      },
      "execution_count": 43,
      "outputs": [
        {
          "output_type": "stream",
          "name": "stdout",
          "text": [
            "Enter comma separated 4-digit binary numbers: 0110,0101, 1001, 1111\n",
            "0101, 1111\n"
          ]
        }
      ]
    },
    {
      "cell_type": "markdown",
      "source": [
        "# Question: 13\n",
        "### Write a Python program that accepts a string and calculate the number of digits and letters."
      ],
      "metadata": {
        "id": "pkBLzydinM3G"
      }
    },
    {
      "cell_type": "code",
      "source": [
        "myInput = input(\"Enter a string: \")\n",
        "digits = 0\n",
        "letters = 0\n",
        "for i in myInput:\n",
        "  if i.isdigit():\n",
        "    digits += 1\n",
        "  elif i.isalpha():\n",
        "    letters += 1\n",
        "  else:\n",
        "    pass\n",
        "print(\"Letters: \" + str(letters))\n",
        "print(\"Digits: \" + str(digits))"
      ],
      "metadata": {
        "colab": {
          "base_uri": "https://localhost:8080/"
        },
        "id": "7DdEzahMnWpf",
        "outputId": "6b8b207a-142e-4901-bc23-f3d01ffff2eb"
      },
      "execution_count": 44,
      "outputs": [
        {
          "output_type": "stream",
          "name": "stdout",
          "text": [
            "Enter a string: Kami123\n",
            "Letters: 4\n",
            "Digits: 3\n"
          ]
        }
      ]
    },
    {
      "cell_type": "markdown",
      "source": [
        "# Question 14\n",
        "\n",
        "### Write a Python program to check the validity of password input by users.  \n",
        "<br>\n",
        "Validation :<br>\n",
        "At least 1 letter between [a-z] and 1 letter between [A-Z].<br>\n",
        "At least 1 number between [0-9].<br>\n",
        "At least 1 character from [$#@].<br>\n",
        "Minimum length 6 characters.<br>\n",
        "Maximum length 16 characters.<br>\n"
      ],
      "metadata": {
        "id": "Ok_7IoG3npEk"
      }
    },
    {
      "cell_type": "code",
      "source": [
        "import re\n",
        "import sys\n",
        "password =  input(\"Enter your password: \")\n",
        "# Check if password length is between 6 and 16 characters\n",
        "if len(password) < 6 or len(password) > 16:\n",
        "  print(\"Invalid password. Password length should be between 6 and 16 characters.\")\n",
        "  sys.exit()\n",
        "\n",
        "# Check if there's at least one lowercase letter [a-z]\n",
        "if not re.search(\"[a-z]\", password):\n",
        "  print(\"Invalid password. Password should contain at least one lowercase letter.\")\n",
        "  sys.exit()\n",
        "\n",
        "# Check if there's at least one uppercase letter [A-Z]\n",
        "if not re.search(\"[A-Z]\", password):\n",
        "  print(\"Invalid password. Password should contain at least one uppercase letter.\")\n",
        "  sys.exit()\n",
        "\n",
        "# Check if there's at least one digit [0-9]\n",
        "if not re.search(\"[0-9]\", password):\n",
        "  print(\"Invalid password. Password should contain at least one digit.\")\n",
        "  sys.exit()\n",
        "\n",
        "# Check if there's at least one special character from [$#@]\n",
        "if not re.search(\"[$#@]\", password):\n",
        "    print(\"Invalid password. Password should contain at least one special character from [$#@].\")\n",
        "    sys.exit()\n",
        "\n",
        "print(\"Valid password\")\n"
      ],
      "metadata": {
        "colab": {
          "base_uri": "https://localhost:8080/"
        },
        "id": "YywqIgk4Y2AT",
        "outputId": "721f4a0f-2b38-4acc-f337-736343b1a87c"
      },
      "execution_count": 46,
      "outputs": [
        {
          "output_type": "stream",
          "name": "stdout",
          "text": [
            "Enter your password: Password#1\n",
            "Valid password\n"
          ]
        }
      ]
    },
    {
      "cell_type": "markdown",
      "source": [
        "# Question: 15\n",
        "\n",
        "### Write a Python program to find numbers between 100 and 400 (both included) where each digit of a number is an even number. The numbers obtained should be printed in a comma-separated sequence.  "
      ],
      "metadata": {
        "id": "Mnv2ee4jok-h"
      }
    },
    {
      "cell_type": "code",
      "source": [
        "all_even = []\n",
        "for number in range (200, 401):\n",
        "  number = str(number)\n",
        "  if int(number[0]) % 2 == 0 and int(number[1]) % 2 == 0 and int(number[2]) % 2 == 0:\n",
        "    all_even.append(number)\n",
        "print(\",\".join(all_even))"
      ],
      "metadata": {
        "colab": {
          "base_uri": "https://localhost:8080/"
        },
        "id": "Fgo67_5QoiH2",
        "outputId": "be590f92-723e-48c2-8834-54c678587726"
      },
      "execution_count": 47,
      "outputs": [
        {
          "output_type": "stream",
          "name": "stdout",
          "text": [
            "200,202,204,206,208,220,222,224,226,228,240,242,244,246,248,260,262,264,266,268,280,282,284,286,288,400\n"
          ]
        }
      ]
    }
  ]
}