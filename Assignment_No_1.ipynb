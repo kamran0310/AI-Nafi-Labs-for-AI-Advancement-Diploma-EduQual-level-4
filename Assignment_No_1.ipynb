{
  "nbformat": 4,
  "nbformat_minor": 0,
  "metadata": {
    "colab": {
      "provenance": []
    },
    "kernelspec": {
      "name": "python3",
      "display_name": "Python 3"
    },
    "language_info": {
      "name": "python"
    }
  },
  "cells": [
    {
      "cell_type": "markdown",
      "source": [
        "# Question: 1"
      ],
      "metadata": {
        "id": "uIRfzz8UrzYo"
      }
    },
    {
      "cell_type": "markdown",
      "source": [
        "### Write a Python program to get a string which is n (non-negative integer) copies of a given string."
      ],
      "metadata": {
        "id": "WbXjE4Egr6aI"
      }
    },
    {
      "cell_type": "code",
      "source": [
        "#take input string from user.\n",
        "string = input(\"Enter a string: \")\n",
        "#Take a non-negative integer mentioning the amount of copies of the string he/she wants\n",
        "while True:\n",
        "  try:\n",
        "    number = int(input(\"Enter a non-negative integer: \"))\n",
        "    if number >= 0:\n",
        "      break\n",
        "    else:\n",
        "      print(\"Invalid input. Please enter a non-negative integer.\")\n",
        "  except ValueError:\n",
        "    print(\"Invalid input. Please enter a valid integer.\")\n",
        "\n",
        "#print the output\n",
        "print(\"You entered a string: \" +string + \" and want \" + str (number) + \" copies of it\")\n",
        "print(\"Here is your required output \" + str(string * number))"
      ],
      "metadata": {
        "colab": {
          "base_uri": "https://localhost:8080/"
        },
        "id": "-iiYKzUGoimv",
        "outputId": "57984921-fb8e-4810-ccb3-fdc78f614f39"
      },
      "execution_count": 15,
      "outputs": [
        {
          "name": "stdout",
          "output_type": "stream",
          "text": [
            "Enter a string: lesc\n",
            "Enter a non-negative integer: 3\n"
          ]
        }
      ]
    },
    {
      "cell_type": "markdown",
      "source": [
        "# Question 2\n"
      ],
      "metadata": {
        "id": "hQA2qbHesQi5"
      }
    },
    {
      "cell_type": "markdown",
      "source": [
        "### Write a Python program to find whether a given number (accept from the user) is even or odd, print out an appropriate message to the user."
      ],
      "metadata": {
        "id": "cZEbXOdRskzy"
      }
    },
    {
      "cell_type": "code",
      "source": [
        "#take non-negative integer from the user\n",
        "while True:\n",
        "  try:\n",
        "    number = int(input(\"Enter a non-negative integer: \"))\n",
        "    if number >= 0:\n",
        "      break\n",
        "    else:\n",
        "      print(\"Invalid input. Please enter a non-negative integer.\")\n",
        "  except ValueError:\n",
        "    print(\"Invalid input. Please enter a valid integer.\")\n",
        "\n",
        "#check if the number is even or odd and print the answers\n",
        "if number % 2 == 0:\n",
        "  print(\" the number you entered is an even number.\")\n",
        "else:\n",
        "  print(\" the number you entered is odd number.\")"
      ],
      "metadata": {
        "colab": {
          "base_uri": "https://localhost:8080/"
        },
        "id": "dc_m2uSXsJCM",
        "outputId": "18d7fe61-c222-4f16-8483-ec6837aaa054"
      },
      "execution_count": 19,
      "outputs": [
        {
          "output_type": "stream",
          "name": "stdout",
          "text": [
            "Enter a non-negative integer: 8\n",
            " the number you entered is an even number.\n"
          ]
        }
      ]
    },
    {
      "cell_type": "markdown",
      "source": [
        "# Question 3\n",
        "### Write a Python program to test whether a number is within 100 of 1000 or 2000."
      ],
      "metadata": {
        "id": "aggv4X20nExo"
      }
    },
    {
      "cell_type": "code",
      "source": [
        "number = int(input(\"Enter a non-negative integer: \"))\n",
        "\n",
        "if number <=1100 and number >=900:\n",
        "  print(\"Number is 100 of 1000\")\n",
        "elif number <=2100 and number >=1900:\n",
        "  print(\"Number is 100 of 2000\")\n",
        "else:\n",
        "  print(\"Number is neither in 100 of 1000 or 100 or 2000\")"
      ],
      "metadata": {
        "colab": {
          "base_uri": "https://localhost:8080/"
        },
        "id": "7KbqY27ttK5c",
        "outputId": "b8603b90-dc5d-4ace-fd7e-b3e93688c912"
      },
      "execution_count": 9,
      "outputs": [
        {
          "output_type": "stream",
          "name": "stdout",
          "text": [
            "Enter a non-negative integer: 2100\n",
            "Number is 100 of 2000\n"
          ]
        }
      ]
    },
    {
      "cell_type": "markdown",
      "source": [
        "# Questin 4\n",
        "\n",
        "### Write a Python program to get the volume of a sphere with radius 6."
      ],
      "metadata": {
        "id": "l6bVDEX9nbvU"
      }
    },
    {
      "cell_type": "code",
      "source": [
        "#this one is quite simple.\n",
        "radius = 6\n",
        "pi = 3.141592653589793\n",
        "volume = (4/3) * pi * (radius**3)\n",
        "print(\"The volume of the sphere is:\", volume)\n"
      ],
      "metadata": {
        "colab": {
          "base_uri": "https://localhost:8080/"
        },
        "id": "X2LpjYrxnVyQ",
        "outputId": "e130e678-15ca-4464-eec7-7b57ff88c7a6"
      },
      "execution_count": 11,
      "outputs": [
        {
          "output_type": "stream",
          "name": "stdout",
          "text": [
            "The volume of the sphere is: 904.7786842338603\n"
          ]
        }
      ]
    },
    {
      "cell_type": "markdown",
      "source": [
        "# Question 5\n",
        "### \tWrite a Python program to print the following string in a specific format (see the output). Go to the editor\n",
        "Sample String : \"Twinkle, twinkle, little star, How I wonder what you are! Up above the world so high, Like a diamond in the sky. Twinkle, twinkle, little star, How I wonder what you are\"\n",
        "Output :\n",
        "\n",
        "Twinkle, twinkle, little star,<br>\n",
        "&nbsp;&nbsp;&nbsp;&nbsp;How I wonder what you are!<br>\n",
        "&nbsp;&nbsp;&nbsp;&nbsp;&nbsp;&nbsp;&nbsp;&nbsp;Up above the world so high,<br>\n",
        "&nbsp;&nbsp;&nbsp;&nbsp;&nbsp;&nbsp;&nbsp;&nbsp;&nbsp;&nbsp;&nbsp;&nbsp;Like a diamond in the sky. <br>\n",
        "Twinkle, twinkle, little star,<br>\n",
        "&nbsp;&nbsp;&nbsp;&nbsp;How I wonder what you are\n"
      ],
      "metadata": {
        "id": "-kvSlfnupmuD"
      }
    },
    {
      "cell_type": "markdown",
      "source": [],
      "metadata": {
        "id": "FySLIEngp2sv"
      }
    },
    {
      "cell_type": "code",
      "source": [
        "print(\"\"\"Twinkle, twinkle, little star,\\n\n",
        "\\t How I wonder what you are! \\n\n",
        "\\t\\tUp above the world so high, \\n\n",
        "\\t\\t\\t Like a diamond in the sky.\\n\n",
        " Twinkle, twinkle, little star,\\n\n",
        "\\tHow I wonder what you are\"\"\")"
      ],
      "metadata": {
        "colab": {
          "base_uri": "https://localhost:8080/"
        },
        "id": "gIm0geySoTOA",
        "outputId": "45fa794b-c530-476e-a8b9-b07c820f9f01"
      },
      "execution_count": 12,
      "outputs": [
        {
          "output_type": "stream",
          "name": "stdout",
          "text": [
            "Twinkle, twinkle, little star,\n",
            "\n",
            "\t How I wonder what you are! \n",
            "\n",
            "\t\tUp above the world so high, \n",
            "\n",
            "\t\t\t Like a diamond in the sky.\n",
            "\n",
            " Twinkle, twinkle, little star,\n",
            "\n",
            "\tHow I wonder what you are\n"
          ]
        }
      ]
    },
    {
      "cell_type": "markdown",
      "source": [
        "# Question 6\n",
        "### Write a Python program to swap two variables."
      ],
      "metadata": {
        "id": "XdEaVoPm8God"
      }
    },
    {
      "cell_type": "code",
      "source": [
        "#Swaping values of two variables without using third variable.\n",
        "\n",
        "a = 50\n",
        "b = 60\n",
        "\n",
        "a = a + b\n",
        "b = a - b\n",
        "a = a - b\n",
        "\n",
        "print(\"a =\", a)\n",
        "print(\"b =\", b)"
      ],
      "metadata": {
        "colab": {
          "base_uri": "https://localhost:8080/"
        },
        "id": "edzi5arf72yj",
        "outputId": "b934b5be-2efc-4ab7-c32c-56eebb49fbef"
      },
      "execution_count": 14,
      "outputs": [
        {
          "output_type": "stream",
          "name": "stdout",
          "text": [
            "a = 60\n",
            "b = 50\n"
          ]
        }
      ]
    },
    {
      "cell_type": "markdown",
      "source": [
        "# Questin 7\n",
        "\n",
        "### Create a program that asks the user to enter their name and their age. Print out a message addressed to them that tells them the year that they will turn 100 years old."
      ],
      "metadata": {
        "id": "2zGf5pNX9WET"
      }
    },
    {
      "cell_type": "code",
      "source": [
        "name = input(\"Enter name: \")\n",
        "age = int(input(\"Enter age: \"))\n",
        "\n",
        "print( name + \" will turn 100 by the year: \" + str(int(2024) + (100-age)))"
      ],
      "metadata": {
        "colab": {
          "base_uri": "https://localhost:8080/"
        },
        "id": "nHHlzaj39fM0",
        "outputId": "c29de5f1-ac05-4bbe-8769-4b872fcd5298"
      },
      "execution_count": 17,
      "outputs": [
        {
          "output_type": "stream",
          "name": "stdout",
          "text": [
            "Enter name: Kamran \n",
            "Enter age: 31\n",
            "Kamran  will turn 100 by the year: 2093\n"
          ]
        }
      ]
    }
  ]
}